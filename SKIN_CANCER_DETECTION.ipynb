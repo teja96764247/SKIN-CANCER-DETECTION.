{
  "nbformat": 4,
  "nbformat_minor": 0,
  "metadata": {
    "colab": {
      "provenance": [],
      "gpuType": "T4"
    },
    "kernelspec": {
      "name": "python3",
      "display_name": "Python 3"
    },
    "language_info": {
      "name": "python"
    },
    "accelerator": "GPU"
  },
  "cells": [
    {
      "cell_type": "code",
      "execution_count": 1,
      "metadata": {
        "id": "RywbcqmjXlAs"
      },
      "outputs": [],
      "source": [
        "!mkdir -p ~/.kaggle\n",
        "!cp kaggle.json ~/.kaggle/\n",
        "!chmod 600 ~/.kaggle/kaggle.json"
      ]
    },
    {
      "cell_type": "code",
      "source": [
        "!kaggle datasets download -d jaiahuja/skin-cancer-detection"
      ],
      "metadata": {
        "colab": {
          "base_uri": "https://localhost:8080/"
        },
        "id": "mvdcjoUEYJjF",
        "outputId": "fc7f5da6-7975-43a2-d379-4834852c7894"
      },
      "execution_count": 2,
      "outputs": [
        {
          "output_type": "stream",
          "name": "stdout",
          "text": [
            "Downloading skin-cancer-detection.zip to /content\n",
            "100% 784M/786M [00:42<00:00, 20.9MB/s]\n",
            "100% 786M/786M [00:42<00:00, 19.3MB/s]\n"
          ]
        }
      ]
    },
    {
      "cell_type": "code",
      "source": [
        "from zipfile import ZipFile\n",
        "dataset = '/content/skin-cancer-detection.zip'\n",
        "\n",
        "with ZipFile(dataset,'r') as zip:\n",
        "  zip.extractall()\n",
        "  print('The dataset is extracted')"
      ],
      "metadata": {
        "colab": {
          "base_uri": "https://localhost:8080/"
        },
        "id": "NvBgP-MBYgYd",
        "outputId": "1d5c99d8-67cd-4646-c7cc-049e7e1741c6"
      },
      "execution_count": 3,
      "outputs": [
        {
          "output_type": "stream",
          "name": "stdout",
          "text": [
            "The dataset is extracted\n"
          ]
        }
      ]
    },
    {
      "cell_type": "code",
      "source": [
        "import numpy as np\n",
        "import pandas as pd\n",
        "import os\n",
        "import cv2\n",
        "from PIL import Image\n",
        "from google.colab.patches import cv2_imshow\n",
        "from tqdm import tqdm"
      ],
      "metadata": {
        "id": "FnMiift4YngW"
      },
      "execution_count": 10,
      "outputs": []
    },
    {
      "cell_type": "code",
      "source": [
        "train_folder=os.listdir('/content/Skin cancer ISIC The International Skin Imaging Collaboration/Train')\n",
        "print(train_folder)\n",
        "print(len(train_folder))"
      ],
      "metadata": {
        "colab": {
          "base_uri": "https://localhost:8080/"
        },
        "id": "vmQrn3ZoYzKl",
        "outputId": "89a67112-b5a1-4ca8-8437-c722ef6134ef"
      },
      "execution_count": 5,
      "outputs": [
        {
          "output_type": "stream",
          "name": "stdout",
          "text": [
            "['actinic keratosis', 'vascular lesion', 'squamous cell carcinoma', 'seborrheic keratosis', 'nevus', 'dermatofibroma', 'pigmented benign keratosis', 'melanoma', 'basal cell carcinoma']\n",
            "9\n"
          ]
        }
      ]
    },
    {
      "cell_type": "code",
      "source": [
        "data=[]"
      ],
      "metadata": {
        "id": "r5-lGh0AZ_pv"
      },
      "execution_count": 9,
      "outputs": []
    },
    {
      "cell_type": "code",
      "source": [
        "for i in tqdm(range(9)):\n",
        "  folder_path='/content/Skin cancer ISIC The International Skin Imaging Collaboration/Train/'+train_folder[i]\n",
        "  img_folder=os.listdir(folder_path)\n",
        "  l=len(img_folder)\n",
        "  for j in range(l):\n",
        "    img_path=folder_path+'/'+img_folder[j]\n",
        "    img_pillow=Image.open(img_path)\n",
        "    img_color=img_pillow.convert('RGB')\n",
        "    img_resize=img_color.resize((64,64))\n",
        "    img_arr=np.array(img_resize)\n",
        "    data.append([img_arr,i])"
      ],
      "metadata": {
        "colab": {
          "base_uri": "https://localhost:8080/"
        },
        "id": "Vx6begpFY9bG",
        "outputId": "43abe5f2-f9ad-415e-cb84-7283a577615e"
      },
      "execution_count": 11,
      "outputs": [
        {
          "output_type": "stream",
          "name": "stderr",
          "text": [
            "100%|██████████| 9/9 [00:37<00:00,  4.16s/it]\n"
          ]
        }
      ]
    },
    {
      "cell_type": "code",
      "source": [
        "x=[]"
      ],
      "metadata": {
        "id": "jgGKZHfcZamo"
      },
      "execution_count": 12,
      "outputs": []
    },
    {
      "cell_type": "code",
      "source": [
        "y=[]"
      ],
      "metadata": {
        "id": "y7Zs1d9AaLoz"
      },
      "execution_count": 13,
      "outputs": []
    },
    {
      "cell_type": "code",
      "source": [
        "for img_array,label in data:\n",
        "  x.append(img_array)\n",
        "  y.append(label)"
      ],
      "metadata": {
        "id": "FZEcITflaMcU"
      },
      "execution_count": 14,
      "outputs": []
    },
    {
      "cell_type": "code",
      "source": [
        "x=np.array(x)\n",
        "y=np.array(y)"
      ],
      "metadata": {
        "id": "2uWkLZujaTcC"
      },
      "execution_count": 15,
      "outputs": []
    },
    {
      "cell_type": "code",
      "source": [
        "from sklearn.model_selection import train_test_split\n",
        "x_train,x_test,y_train,y_test=train_test_split(x,y,test_size=0.1,random_state=0)"
      ],
      "metadata": {
        "id": "SZ-UjU-saWhB"
      },
      "execution_count": 16,
      "outputs": []
    },
    {
      "cell_type": "code",
      "source": [
        "x_train_scaled=x_train/255\n",
        "x_test_scaled=x_test/255"
      ],
      "metadata": {
        "id": "yoRQf_PyamKC"
      },
      "execution_count": 17,
      "outputs": []
    },
    {
      "cell_type": "code",
      "source": [
        "import tensorflow as tf\n",
        "from tensorflow import keras"
      ],
      "metadata": {
        "id": "5eXm3VAgavVm"
      },
      "execution_count": 18,
      "outputs": []
    },
    {
      "cell_type": "code",
      "source": [
        "num_of_classes=10\n",
        "model=keras.Sequential()\n",
        "\n",
        "model.add(keras.layers.Conv2D(32,kernel_size=(3,3),activation='relu',input_shape=(64,64,3)))\n",
        "model.add(keras.layers.MaxPooling2D(pool_size=(2,2)))\n",
        "\n",
        "model.add(keras.layers.Conv2D(64,kernel_size=(3,3),activation='relu'))\n",
        "model.add(keras.layers.MaxPooling2D(pool_size=(2,2)))\n",
        "\n",
        "model.add(keras.layers.Flatten())\n",
        "\n",
        "model.add(keras.layers.Dense(128,activation='relu'))\n",
        "model.add(keras.layers.Dropout(0.5))\n",
        "\n",
        "model.add(keras.layers.Dense(64,activation='relu'))\n",
        "model.add(keras.layers.Dropout(0.5))\n",
        "\n",
        "model.add(keras.layers.Dense(num_of_classes,activation='softmax'))"
      ],
      "metadata": {
        "id": "MOjCPRDTa1o3"
      },
      "execution_count": 19,
      "outputs": []
    },
    {
      "cell_type": "code",
      "source": [
        "model.compile(optimizer='adam',loss='sparse_categorical_crossentropy',metrics=['accuracy'])"
      ],
      "metadata": {
        "id": "rT1jqzL9bH9W"
      },
      "execution_count": 20,
      "outputs": []
    },
    {
      "cell_type": "code",
      "source": [
        "model.fit(x_train_scaled,y_train,epochs=100,validation_split=0.1)"
      ],
      "metadata": {
        "colab": {
          "base_uri": "https://localhost:8080/"
        },
        "id": "um1ayakTbUj1",
        "outputId": "565ef1bb-348b-44b1-f447-46f65a685eca"
      },
      "execution_count": 22,
      "outputs": [
        {
          "output_type": "stream",
          "name": "stdout",
          "text": [
            "Epoch 1/100\n",
            "57/57 [==============================] - 1s 9ms/step - loss: 1.5139 - accuracy: 0.4617 - val_loss: 1.4205 - val_accuracy: 0.5198\n",
            "Epoch 2/100\n",
            "57/57 [==============================] - 0s 7ms/step - loss: 1.6111 - accuracy: 0.4418 - val_loss: 1.4297 - val_accuracy: 0.5495\n",
            "Epoch 3/100\n",
            "57/57 [==============================] - 0s 7ms/step - loss: 1.5427 - accuracy: 0.4727 - val_loss: 1.4381 - val_accuracy: 0.5297\n",
            "Epoch 4/100\n",
            "57/57 [==============================] - 0s 6ms/step - loss: 1.4877 - accuracy: 0.4837 - val_loss: 1.3607 - val_accuracy: 0.5446\n",
            "Epoch 5/100\n",
            "57/57 [==============================] - 0s 7ms/step - loss: 1.4552 - accuracy: 0.4986 - val_loss: 1.4140 - val_accuracy: 0.5198\n",
            "Epoch 6/100\n",
            "57/57 [==============================] - 0s 6ms/step - loss: 1.4208 - accuracy: 0.5080 - val_loss: 1.4086 - val_accuracy: 0.5297\n",
            "Epoch 7/100\n",
            "57/57 [==============================] - 0s 6ms/step - loss: 1.4225 - accuracy: 0.5124 - val_loss: 1.3285 - val_accuracy: 0.5495\n",
            "Epoch 8/100\n",
            "57/57 [==============================] - 1s 9ms/step - loss: 1.3916 - accuracy: 0.5174 - val_loss: 1.4729 - val_accuracy: 0.4802\n",
            "Epoch 9/100\n",
            "57/57 [==============================] - 0s 8ms/step - loss: 1.3810 - accuracy: 0.5196 - val_loss: 1.3476 - val_accuracy: 0.5446\n",
            "Epoch 10/100\n",
            "57/57 [==============================] - 0s 9ms/step - loss: 1.3603 - accuracy: 0.5345 - val_loss: 1.3384 - val_accuracy: 0.5644\n",
            "Epoch 11/100\n",
            "57/57 [==============================] - 1s 9ms/step - loss: 1.3729 - accuracy: 0.5268 - val_loss: 1.3575 - val_accuracy: 0.5644\n",
            "Epoch 12/100\n",
            "57/57 [==============================] - 0s 7ms/step - loss: 1.3393 - accuracy: 0.5378 - val_loss: 1.3821 - val_accuracy: 0.5594\n",
            "Epoch 13/100\n",
            "57/57 [==============================] - 1s 9ms/step - loss: 1.3100 - accuracy: 0.5466 - val_loss: 1.3565 - val_accuracy: 0.6139\n",
            "Epoch 14/100\n",
            "57/57 [==============================] - 1s 10ms/step - loss: 1.3087 - accuracy: 0.5571 - val_loss: 1.3757 - val_accuracy: 0.5743\n",
            "Epoch 15/100\n",
            "57/57 [==============================] - 0s 7ms/step - loss: 1.2797 - accuracy: 0.5571 - val_loss: 1.3449 - val_accuracy: 0.5693\n",
            "Epoch 16/100\n",
            "57/57 [==============================] - 0s 9ms/step - loss: 1.3105 - accuracy: 0.5499 - val_loss: 1.3726 - val_accuracy: 0.5693\n",
            "Epoch 17/100\n",
            "57/57 [==============================] - 1s 9ms/step - loss: 1.2534 - accuracy: 0.5582 - val_loss: 1.3616 - val_accuracy: 0.5693\n",
            "Epoch 18/100\n",
            "57/57 [==============================] - 1s 9ms/step - loss: 1.2808 - accuracy: 0.5549 - val_loss: 1.3321 - val_accuracy: 0.5693\n",
            "Epoch 19/100\n",
            "57/57 [==============================] - 0s 7ms/step - loss: 1.2350 - accuracy: 0.5742 - val_loss: 1.4559 - val_accuracy: 0.5693\n",
            "Epoch 20/100\n",
            "57/57 [==============================] - 0s 7ms/step - loss: 1.1993 - accuracy: 0.5731 - val_loss: 1.3992 - val_accuracy: 0.5594\n",
            "Epoch 21/100\n",
            "57/57 [==============================] - 0s 7ms/step - loss: 1.1929 - accuracy: 0.5902 - val_loss: 1.4361 - val_accuracy: 0.5396\n",
            "Epoch 22/100\n",
            "57/57 [==============================] - 0s 8ms/step - loss: 1.1963 - accuracy: 0.5780 - val_loss: 1.4088 - val_accuracy: 0.5792\n",
            "Epoch 23/100\n",
            "57/57 [==============================] - 0s 6ms/step - loss: 1.1614 - accuracy: 0.5902 - val_loss: 1.4816 - val_accuracy: 0.5545\n",
            "Epoch 24/100\n",
            "57/57 [==============================] - 0s 7ms/step - loss: 1.1587 - accuracy: 0.5913 - val_loss: 1.3617 - val_accuracy: 0.5792\n",
            "Epoch 25/100\n",
            "57/57 [==============================] - 0s 6ms/step - loss: 1.1151 - accuracy: 0.6023 - val_loss: 1.4089 - val_accuracy: 0.5792\n",
            "Epoch 26/100\n",
            "57/57 [==============================] - 0s 7ms/step - loss: 1.1235 - accuracy: 0.5985 - val_loss: 1.5036 - val_accuracy: 0.5545\n",
            "Epoch 27/100\n",
            "57/57 [==============================] - 0s 7ms/step - loss: 1.1252 - accuracy: 0.6051 - val_loss: 1.4342 - val_accuracy: 0.5941\n",
            "Epoch 28/100\n",
            "57/57 [==============================] - 0s 6ms/step - loss: 1.0763 - accuracy: 0.6150 - val_loss: 1.5673 - val_accuracy: 0.5594\n",
            "Epoch 29/100\n",
            "57/57 [==============================] - 0s 6ms/step - loss: 1.1631 - accuracy: 0.5929 - val_loss: 1.5926 - val_accuracy: 0.5644\n",
            "Epoch 30/100\n",
            "57/57 [==============================] - 0s 6ms/step - loss: 1.0758 - accuracy: 0.6161 - val_loss: 1.5362 - val_accuracy: 0.5891\n",
            "Epoch 31/100\n",
            "57/57 [==============================] - 0s 7ms/step - loss: 1.0672 - accuracy: 0.6266 - val_loss: 1.5956 - val_accuracy: 0.5693\n",
            "Epoch 32/100\n",
            "57/57 [==============================] - 1s 9ms/step - loss: 1.0522 - accuracy: 0.6227 - val_loss: 1.7066 - val_accuracy: 0.5545\n",
            "Epoch 33/100\n",
            "57/57 [==============================] - 1s 9ms/step - loss: 1.0384 - accuracy: 0.6194 - val_loss: 1.6367 - val_accuracy: 0.5743\n",
            "Epoch 34/100\n",
            "57/57 [==============================] - 0s 8ms/step - loss: 1.0116 - accuracy: 0.6382 - val_loss: 1.6221 - val_accuracy: 0.5693\n",
            "Epoch 35/100\n",
            "57/57 [==============================] - 1s 10ms/step - loss: 0.9576 - accuracy: 0.6586 - val_loss: 1.6751 - val_accuracy: 0.5743\n",
            "Epoch 36/100\n",
            "57/57 [==============================] - 1s 10ms/step - loss: 0.9716 - accuracy: 0.6431 - val_loss: 1.6659 - val_accuracy: 0.5743\n",
            "Epoch 37/100\n",
            "57/57 [==============================] - 1s 14ms/step - loss: 0.9536 - accuracy: 0.6498 - val_loss: 1.6493 - val_accuracy: 0.5891\n",
            "Epoch 38/100\n",
            "57/57 [==============================] - 1s 9ms/step - loss: 0.9394 - accuracy: 0.6635 - val_loss: 1.8735 - val_accuracy: 0.5594\n",
            "Epoch 39/100\n",
            "57/57 [==============================] - 0s 7ms/step - loss: 0.9582 - accuracy: 0.6591 - val_loss: 1.7733 - val_accuracy: 0.5792\n",
            "Epoch 40/100\n",
            "57/57 [==============================] - 0s 8ms/step - loss: 0.9799 - accuracy: 0.6492 - val_loss: 1.6368 - val_accuracy: 0.5693\n",
            "Epoch 41/100\n",
            "57/57 [==============================] - 0s 7ms/step - loss: 0.9126 - accuracy: 0.6646 - val_loss: 1.9175 - val_accuracy: 0.5792\n",
            "Epoch 42/100\n",
            "57/57 [==============================] - 0s 7ms/step - loss: 0.8440 - accuracy: 0.6823 - val_loss: 1.7420 - val_accuracy: 0.5891\n",
            "Epoch 43/100\n",
            "57/57 [==============================] - 0s 7ms/step - loss: 0.9441 - accuracy: 0.6503 - val_loss: 1.8041 - val_accuracy: 0.5792\n",
            "Epoch 44/100\n",
            "57/57 [==============================] - 0s 6ms/step - loss: 0.9193 - accuracy: 0.6696 - val_loss: 1.8810 - val_accuracy: 0.5743\n",
            "Epoch 45/100\n",
            "57/57 [==============================] - 0s 7ms/step - loss: 0.8461 - accuracy: 0.6900 - val_loss: 1.7868 - val_accuracy: 0.5743\n",
            "Epoch 46/100\n",
            "57/57 [==============================] - 0s 7ms/step - loss: 0.8411 - accuracy: 0.6845 - val_loss: 1.9904 - val_accuracy: 0.5941\n",
            "Epoch 47/100\n",
            "57/57 [==============================] - 0s 7ms/step - loss: 0.8378 - accuracy: 0.6922 - val_loss: 1.8280 - val_accuracy: 0.5842\n",
            "Epoch 48/100\n",
            "57/57 [==============================] - 0s 6ms/step - loss: 0.8399 - accuracy: 0.6950 - val_loss: 1.8148 - val_accuracy: 0.5891\n",
            "Epoch 49/100\n",
            "57/57 [==============================] - 0s 7ms/step - loss: 0.7938 - accuracy: 0.7077 - val_loss: 1.9114 - val_accuracy: 0.5693\n",
            "Epoch 50/100\n",
            "57/57 [==============================] - 0s 7ms/step - loss: 0.7858 - accuracy: 0.7005 - val_loss: 1.8621 - val_accuracy: 0.5990\n",
            "Epoch 51/100\n",
            "57/57 [==============================] - 0s 7ms/step - loss: 0.7600 - accuracy: 0.7077 - val_loss: 2.2756 - val_accuracy: 0.5792\n",
            "Epoch 52/100\n",
            "57/57 [==============================] - 0s 7ms/step - loss: 0.7673 - accuracy: 0.7176 - val_loss: 1.9285 - val_accuracy: 0.5842\n",
            "Epoch 53/100\n",
            "57/57 [==============================] - 0s 7ms/step - loss: 0.7421 - accuracy: 0.7181 - val_loss: 2.2466 - val_accuracy: 0.5941\n",
            "Epoch 54/100\n",
            "57/57 [==============================] - 0s 7ms/step - loss: 0.7893 - accuracy: 0.7060 - val_loss: 1.8511 - val_accuracy: 0.5990\n",
            "Epoch 55/100\n",
            "57/57 [==============================] - 0s 7ms/step - loss: 0.7692 - accuracy: 0.7198 - val_loss: 2.0122 - val_accuracy: 0.5743\n",
            "Epoch 56/100\n",
            "57/57 [==============================] - 0s 7ms/step - loss: 0.7216 - accuracy: 0.7297 - val_loss: 2.0184 - val_accuracy: 0.6089\n",
            "Epoch 57/100\n",
            "57/57 [==============================] - 0s 6ms/step - loss: 0.7398 - accuracy: 0.7165 - val_loss: 2.0939 - val_accuracy: 0.6040\n",
            "Epoch 58/100\n",
            "57/57 [==============================] - 0s 7ms/step - loss: 0.8039 - accuracy: 0.7209 - val_loss: 2.1427 - val_accuracy: 0.5990\n",
            "Epoch 59/100\n",
            "57/57 [==============================] - 0s 6ms/step - loss: 0.7422 - accuracy: 0.7204 - val_loss: 2.0605 - val_accuracy: 0.5693\n",
            "Epoch 60/100\n",
            "57/57 [==============================] - 0s 6ms/step - loss: 0.7016 - accuracy: 0.7501 - val_loss: 2.1383 - val_accuracy: 0.5842\n",
            "Epoch 61/100\n",
            "57/57 [==============================] - 0s 7ms/step - loss: 0.7109 - accuracy: 0.7281 - val_loss: 2.0896 - val_accuracy: 0.6040\n",
            "Epoch 62/100\n",
            "57/57 [==============================] - 0s 7ms/step - loss: 0.6782 - accuracy: 0.7479 - val_loss: 2.2282 - val_accuracy: 0.5891\n",
            "Epoch 63/100\n",
            "57/57 [==============================] - 0s 7ms/step - loss: 0.6497 - accuracy: 0.7584 - val_loss: 2.2425 - val_accuracy: 0.6040\n",
            "Epoch 64/100\n",
            "57/57 [==============================] - 0s 9ms/step - loss: 0.7052 - accuracy: 0.7380 - val_loss: 2.1366 - val_accuracy: 0.5792\n",
            "Epoch 65/100\n",
            "57/57 [==============================] - 0s 8ms/step - loss: 0.6753 - accuracy: 0.7435 - val_loss: 2.3650 - val_accuracy: 0.6089\n",
            "Epoch 66/100\n",
            "57/57 [==============================] - 0s 8ms/step - loss: 0.6704 - accuracy: 0.7441 - val_loss: 2.2178 - val_accuracy: 0.5842\n",
            "Epoch 67/100\n",
            "57/57 [==============================] - 1s 9ms/step - loss: 0.6497 - accuracy: 0.7557 - val_loss: 2.3024 - val_accuracy: 0.5644\n",
            "Epoch 68/100\n",
            "57/57 [==============================] - 0s 7ms/step - loss: 0.6566 - accuracy: 0.7551 - val_loss: 2.1445 - val_accuracy: 0.6089\n",
            "Epoch 69/100\n",
            "57/57 [==============================] - 0s 6ms/step - loss: 0.6387 - accuracy: 0.7694 - val_loss: 2.2349 - val_accuracy: 0.6188\n",
            "Epoch 70/100\n",
            "57/57 [==============================] - 0s 7ms/step - loss: 0.6399 - accuracy: 0.7623 - val_loss: 2.3602 - val_accuracy: 0.5941\n",
            "Epoch 71/100\n",
            "57/57 [==============================] - 0s 7ms/step - loss: 0.6842 - accuracy: 0.7529 - val_loss: 2.5557 - val_accuracy: 0.5693\n",
            "Epoch 72/100\n",
            "57/57 [==============================] - 0s 7ms/step - loss: 0.6197 - accuracy: 0.7739 - val_loss: 2.6325 - val_accuracy: 0.6040\n",
            "Epoch 73/100\n",
            "57/57 [==============================] - 0s 7ms/step - loss: 0.5986 - accuracy: 0.7816 - val_loss: 2.5758 - val_accuracy: 0.5891\n",
            "Epoch 74/100\n",
            "57/57 [==============================] - 0s 7ms/step - loss: 0.5812 - accuracy: 0.7711 - val_loss: 2.7239 - val_accuracy: 0.5693\n",
            "Epoch 75/100\n",
            "57/57 [==============================] - 0s 7ms/step - loss: 0.6166 - accuracy: 0.7612 - val_loss: 2.4750 - val_accuracy: 0.5842\n",
            "Epoch 76/100\n",
            "57/57 [==============================] - 0s 6ms/step - loss: 0.6123 - accuracy: 0.7794 - val_loss: 2.7799 - val_accuracy: 0.5941\n",
            "Epoch 77/100\n",
            "57/57 [==============================] - 0s 7ms/step - loss: 0.6044 - accuracy: 0.7750 - val_loss: 2.7536 - val_accuracy: 0.5842\n",
            "Epoch 78/100\n",
            "57/57 [==============================] - 0s 8ms/step - loss: 0.5611 - accuracy: 0.7854 - val_loss: 2.8233 - val_accuracy: 0.5941\n",
            "Epoch 79/100\n",
            "57/57 [==============================] - 0s 9ms/step - loss: 0.5983 - accuracy: 0.7744 - val_loss: 2.4922 - val_accuracy: 0.5842\n",
            "Epoch 80/100\n",
            "57/57 [==============================] - 0s 7ms/step - loss: 0.5339 - accuracy: 0.7970 - val_loss: 2.7880 - val_accuracy: 0.5941\n",
            "Epoch 81/100\n",
            "57/57 [==============================] - 0s 7ms/step - loss: 0.5473 - accuracy: 0.7998 - val_loss: 2.8580 - val_accuracy: 0.5941\n",
            "Epoch 82/100\n",
            "57/57 [==============================] - 1s 9ms/step - loss: 0.5318 - accuracy: 0.7899 - val_loss: 2.5287 - val_accuracy: 0.6089\n",
            "Epoch 83/100\n",
            "57/57 [==============================] - 0s 9ms/step - loss: 0.5185 - accuracy: 0.8047 - val_loss: 3.1444 - val_accuracy: 0.6089\n",
            "Epoch 84/100\n",
            "57/57 [==============================] - 0s 8ms/step - loss: 0.5723 - accuracy: 0.7843 - val_loss: 3.0503 - val_accuracy: 0.5842\n",
            "Epoch 85/100\n",
            "57/57 [==============================] - 0s 9ms/step - loss: 0.5042 - accuracy: 0.8053 - val_loss: 2.9350 - val_accuracy: 0.5891\n",
            "Epoch 86/100\n",
            "57/57 [==============================] - 0s 7ms/step - loss: 0.5074 - accuracy: 0.8069 - val_loss: 2.9595 - val_accuracy: 0.5941\n",
            "Epoch 87/100\n",
            "57/57 [==============================] - 0s 7ms/step - loss: 0.5498 - accuracy: 0.7832 - val_loss: 2.8933 - val_accuracy: 0.5990\n",
            "Epoch 88/100\n",
            "57/57 [==============================] - 0s 7ms/step - loss: 0.4999 - accuracy: 0.8086 - val_loss: 3.0906 - val_accuracy: 0.6089\n",
            "Epoch 89/100\n",
            "57/57 [==============================] - 0s 7ms/step - loss: 0.5249 - accuracy: 0.8053 - val_loss: 3.3146 - val_accuracy: 0.6040\n",
            "Epoch 90/100\n",
            "57/57 [==============================] - 0s 6ms/step - loss: 0.5334 - accuracy: 0.7998 - val_loss: 2.8231 - val_accuracy: 0.6139\n",
            "Epoch 91/100\n",
            "57/57 [==============================] - 0s 8ms/step - loss: 0.5269 - accuracy: 0.8042 - val_loss: 3.1948 - val_accuracy: 0.6436\n",
            "Epoch 92/100\n",
            "57/57 [==============================] - 0s 8ms/step - loss: 0.5275 - accuracy: 0.7915 - val_loss: 3.1806 - val_accuracy: 0.5743\n",
            "Epoch 93/100\n",
            "57/57 [==============================] - 0s 8ms/step - loss: 0.5717 - accuracy: 0.7816 - val_loss: 3.3473 - val_accuracy: 0.5842\n",
            "Epoch 94/100\n",
            "57/57 [==============================] - 0s 8ms/step - loss: 0.5256 - accuracy: 0.7948 - val_loss: 3.3977 - val_accuracy: 0.5594\n",
            "Epoch 95/100\n",
            "57/57 [==============================] - 1s 9ms/step - loss: 0.5579 - accuracy: 0.7887 - val_loss: 3.1511 - val_accuracy: 0.5842\n",
            "Epoch 96/100\n",
            "57/57 [==============================] - 0s 8ms/step - loss: 0.5940 - accuracy: 0.7887 - val_loss: 3.2958 - val_accuracy: 0.5594\n",
            "Epoch 97/100\n",
            "57/57 [==============================] - 0s 8ms/step - loss: 0.5406 - accuracy: 0.7882 - val_loss: 3.1350 - val_accuracy: 0.6139\n",
            "Epoch 98/100\n",
            "57/57 [==============================] - 0s 7ms/step - loss: 0.4850 - accuracy: 0.8053 - val_loss: 2.7502 - val_accuracy: 0.5792\n",
            "Epoch 99/100\n",
            "57/57 [==============================] - 0s 7ms/step - loss: 0.5051 - accuracy: 0.8163 - val_loss: 3.1625 - val_accuracy: 0.6287\n",
            "Epoch 100/100\n",
            "57/57 [==============================] - 0s 9ms/step - loss: 0.4806 - accuracy: 0.8020 - val_loss: 3.0530 - val_accuracy: 0.5990\n"
          ]
        },
        {
          "output_type": "execute_result",
          "data": {
            "text/plain": [
              "<keras.src.callbacks.History at 0x7c118c561cc0>"
            ]
          },
          "metadata": {},
          "execution_count": 22
        }
      ]
    },
    {
      "cell_type": "code",
      "source": [
        "img_path='/content/Skin cancer ISIC The International Skin Imaging Collaboration/Train/actinic keratosis/ISIC_0025780.jpg'\n",
        "img_pillow=Image.open(img_path)\n",
        "img_color=img_pillow.convert('RGB')\n",
        "img_resize=img_color.resize((64,64))\n",
        "img_arr=np.array(img_resize)\n",
        "img_scaled=img_arr/255\n",
        "img_reshape=np.reshape(img_scaled,[1,64,64,3])\n",
        "prediction=model.predict(img_reshape)\n",
        "print(prediction)\n",
        "output=np.argmax(prediction)\n",
        "print(output)\n",
        "if(output==0):\n",
        "  print('The skin cancer type is actinic keratosis')\n",
        "elif(output==1):\n",
        "  print('The skin cancer type is vascular lesion')\n",
        "elif(output==2):\n",
        "  print('The skin cancer type is squamous cell carcinoma')\n",
        "elif(output==3):\n",
        "  print('The skin cancer type is seborrheic keratosis')\n",
        "elif(output==4):\n",
        "  print('The skin cancer type is nevus')\n",
        "elif(output==5):\n",
        "  print('The skin cancer type is dermatofibroma')\n",
        "elif(output==6):\n",
        "  print('The skin cancer type is pigmented benign keratosis')\n",
        "elif(output==7):\n",
        "  print('The skin cancer type is melanoma')\n",
        "elif(output==8):\n",
        "  print('The skin cancer type is basal cell carcinoma')\n",
        "\n"
      ],
      "metadata": {
        "colab": {
          "base_uri": "https://localhost:8080/"
        },
        "id": "1hDfRUCtbeC2",
        "outputId": "68a258b7-b03c-4a03-b63c-9ad1fca7eeb9"
      },
      "execution_count": 25,
      "outputs": [
        {
          "output_type": "stream",
          "name": "stdout",
          "text": [
            "1/1 [==============================] - 0s 18ms/step\n",
            "[[5.8055741e-01 8.6218570e-05 5.7502404e-02 1.2357114e-03 3.3059579e-01\n",
            "  1.0375955e-02 1.3581662e-02 5.4238769e-03 6.3910021e-04 1.8342773e-06]]\n",
            "0\n",
            "The skin cancer type is actinic keratosis\n"
          ]
        }
      ]
    },
    {
      "cell_type": "code",
      "source": [],
      "metadata": {
        "id": "_jL3WqJLdY1l"
      },
      "execution_count": null,
      "outputs": []
    }
  ]
}